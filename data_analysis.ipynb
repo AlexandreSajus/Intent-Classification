{
 "cells": [
  {
   "attachments": {},
   "cell_type": "markdown",
   "metadata": {},
   "source": [
    "# Data Analysis on the Hugging Face Silicone Maptask Dataset"
   ]
  },
  {
   "cell_type": "code",
   "execution_count": 10,
   "metadata": {},
   "outputs": [],
   "source": [
    "import numpy as np\n",
    "import matplotlib.pyplot as plt\n",
    "\n",
    "from datasets import load_dataset"
   ]
  },
  {
   "cell_type": "code",
   "execution_count": 11,
   "metadata": {},
   "outputs": [
    {
     "name": "stderr",
     "output_type": "stream",
     "text": [
      "Found cached dataset silicone (C:/Users/asaju/.cache/huggingface/datasets/silicone/maptask/1.0.0/af617406c94e3f78da85f7ea74ebfbd3f297a9665cb54adbae305b03bc4442a5)\n",
      "100%|██████████| 3/3 [00:00<00:00, 812.74it/s]\n"
     ]
    }
   ],
   "source": [
    "dataset = load_dataset(\"silicone\", \"maptask\")"
   ]
  },
  {
   "cell_type": "code",
   "execution_count": 12,
   "metadata": {},
   "outputs": [],
   "source": [
    "# Separate the dataset into train val and test\n",
    "train_dataset = dataset[\"train\"]\n",
    "val_dataset = dataset[\"validation\"]\n",
    "test_dataset = dataset[\"test\"]\n",
    "\n",
    "# Separate X (Utterance) and y (Dialogue_Act)\n",
    "train_X = train_dataset[\"Utterance\"]\n",
    "train_y = train_dataset[\"Dialogue_Act\"]\n",
    "\n",
    "val_X = val_dataset[\"Utterance\"]\n",
    "val_y = val_dataset[\"Dialogue_Act\"]\n",
    "\n",
    "test_X = test_dataset[\"Utterance\"]\n",
    "test_y = test_dataset[\"Dialogue_Act\"]"
   ]
  },
  {
   "cell_type": "code",
   "execution_count": 13,
   "metadata": {},
   "outputs": [],
   "source": [
    "# Convert to arrays\n",
    "train_X = np.array(train_X)\n",
    "train_y = np.array(train_y)\n",
    "\n",
    "val_X = np.array(val_X)\n",
    "val_y = np.array(val_y)\n",
    "\n",
    "test_X = np.array(test_X)\n",
    "test_y = np.array(test_y)"
   ]
  },
  {
   "attachments": {},
   "cell_type": "markdown",
   "metadata": {},
   "source": [
    "## Label Distribution"
   ]
  },
  {
   "cell_type": "code",
   "execution_count": 15,
   "metadata": {},
   "outputs": [
    {
     "data": {
      "image/png": "[encoded data removed]",
      "text/plain": [
       "<Figure size 1000x500 with 1 Axes>"
      ]
     },
     "metadata": {},
     "output_type": "display_data"
    }
   ],
   "source": [
    "# Plot a bar chart with the count of each dialogue act\n",
    "plt.figure(figsize=(10, 5))\n",
    "plt.bar(np.unique(train_y, return_counts=True)[0], np.unique(train_y, return_counts=True)[1])\n",
    "plt.title(\"Dialogue Act Distribution\")\n",
    "plt.xlabel(\"Dialogue Act\")\n",
    "plt.ylabel(\"Count\")\n",
    "plt.show()\n"
   ]
  },
  {
   "attachments": {},
   "cell_type": "markdown",
   "metadata": {},
   "source": [
    "There are a lot of labels which means a confusion matrix will be useful to debug confusion between labels and measure performance\n",
    "\n",
    "At least the dataset is somewhat balanced"
   ]
  },
  {
   "attachments": {},
   "cell_type": "markdown",
   "metadata": {},
   "source": [
    "## Human Level Performance Measurement\n",
    "\n",
    "In this part we will print labelled examples to try to understand what the labels mean and what rules decide what label to use\n",
    "\n",
    "We will then try to guess the label on 24 examples to measure Human Level Performance\n",
    "\n",
    "HLP can be used as a performance baseline and this experiment is useful to predict which errors complexionist models are prone to do"
   ]
  },
  {
   "cell_type": "code",
   "execution_count": 16,
   "metadata": {},
   "outputs": [
    {
     "name": "stdout",
     "output_type": "stream",
     "text": [
      "acknowledge:\n",
      "    uh-huh\n",
      "    okay\n",
      "    right okay oops that was\n",
      "\n",
      "align:\n",
      "    okay\n",
      "    okay\n",
      "    okay\n",
      "\n",
      "check:\n",
      "    on the right-hand side roughly just\n",
      "    right down there\n",
      "    underneath the diamond mine\n",
      "\n",
      "clarify:\n",
      "    right beside it\n",
      "    above the carved stones\n",
      "    you're heading from the indian country to the gold mine but trying to avoid the gold rock so come down to the bottom of\n",
      "\n",
      "explain:\n",
      "    i've got a gallows to the left like d-- below the left\n",
      "    oh no i have got a gold mine but it's it's a it's a good bit below that\n",
      "    i said a graveyard\n",
      "\n",
      "instruct:\n",
      "    okay the start part is at the top left-hand corner\n",
      "    ehm you're coming the s-- for three inches down below that\n",
      "    you just go straight down underneath it\n",
      "\n",
      "query_w:\n",
      "    how far underneath the diamond mine\n",
      "    in a curve or a s-- tight angle\n",
      "    how far down do you want me to go\n",
      "\n",
      "query_yn:\n",
      "    do you have a diamond mine there\n",
      "    do you have a graveyard just along from the diamond mine\n",
      "    do you have carved stones\n",
      "\n",
      "ready:\n",
      "    well\n",
      "    right\n",
      "    right well\n",
      "\n",
      "reply_n:\n",
      "    no\n",
      "    no\n",
      "    no\n",
      "\n",
      "reply_w:\n",
      "    no i haven't got that\n",
      "    it's about an inch or so\n",
      "    no i don't have the ravine\n",
      "\n",
      "reply_y:\n",
      "    uh-huh\n",
      "    yeah right\n",
      "    uh-huh\n",
      "\n"
     ]
    }
   ],
   "source": [
    "# For each dialogue act, give 3 examples of utterances\n",
    "for dialogue_act in np.unique(train_y):\n",
    "    print(f\"{dialogue_act}:\")\n",
    "    for i in range(3):\n",
    "        print(f\"    {train_X[np.where(train_y == dialogue_act)[0][i]]}\")\n",
    "    print()"
   ]
  },
  {
   "cell_type": "code",
   "execution_count": 22,
   "metadata": {},
   "outputs": [
    {
     "name": "stdout",
     "output_type": "stream",
     "text": [
      "Utterance: go down to the bottom half of the lake but ehm start straightening out as if you were going back to where you started but le-- leave about an inch between the path where you went round the lake and the path where you're coming out of it\n",
      "Dialouge Act: instruct\n",
      "\n",
      "Utterance: you want me to trace back my steps\n",
      "Dialouge Act: check\n",
      "\n",
      "Utterance: no\n",
      "Dialouge Act: reply_n\n",
      "\n",
      "Utterance: you've gone halfway round the lake\n",
      "Dialouge Act: align\n",
      "\n",
      "Utterance: right\n",
      "Dialouge Act: reply_y\n",
      "\n",
      "Utterance: right\n",
      "Dialouge Act: acknowledge\n",
      "\n",
      "Utterance: go down the sort of slightly flat side the the side that's about an inch of the lake f-- just follow that down\n",
      "Dialouge Act: instruct\n",
      "\n",
      "Utterance: i don't have a flat side\n",
      "Dialouge Act: explain\n",
      "\n",
      "Utterance: oh dear\n",
      "Dialouge Act: acknowledge\n",
      "\n",
      "Utterance: right okay\n",
      "Dialouge Act: ready\n",
      "\n",
      "Utterance: right\n",
      "Dialouge Act: ready\n",
      "\n",
      "Utterance: i'm at the bottom of the lake\n",
      "Dialouge Act: explain\n",
      "\n",
      "Utterance: you're at the bottom\n",
      "Dialouge Act: acknowledge\n",
      "\n",
      "Utterance: okay\n",
      "Dialouge Act: align\n",
      "\n",
      "Utterance: right\n",
      "Dialouge Act: ready\n",
      "\n",
      "Utterance: well i'm\n",
      "Dialouge Act: explain\n",
      "\n",
      "Utterance: right\n",
      "Dialouge Act: ready\n",
      "\n",
      "Utterance: keep progressing in that kind of line for about another inch and a half\n",
      "Dialouge Act: instruct\n",
      "\n",
      "Utterance: towards the left\n",
      "Dialouge Act: check\n",
      "\n",
      "Utterance: yes\n",
      "Dialouge Act: reply_y\n",
      "\n",
      "Utterance: right okay\n",
      "Dialouge Act: acknowledge\n",
      "\n",
      "Utterance: right\n",
      "Dialouge Act: acknowledge\n",
      "\n",
      "Utterance: now\n",
      "Dialouge Act: ready\n",
      "\n",
      "Utterance: when you've done that you should be ehm about equal with where you started going round the lake but about an inch and a half down from there\n",
      "Dialouge Act: align\n",
      "\n",
      "Utterance: yeah\n",
      "Dialouge Act: reply_y\n",
      "\n",
      "Utterance: right\n"
     ]
    },
    {
     "ename": "KeyboardInterrupt",
     "evalue": "Interrupted by user",
     "output_type": "error",
     "traceback": [
      "\u001b[1;31m---------------------------------------------------------------------------\u001b[0m",
      "\u001b[1;31mKeyboardInterrupt\u001b[0m                         Traceback (most recent call last)",
      "Cell \u001b[1;32mIn[22], line 9\u001b[0m\n\u001b[0;32m      7\u001b[0m \u001b[39mfor\u001b[39;00m i \u001b[39min\u001b[39;00m \u001b[39mrange\u001b[39m(\u001b[39mlen\u001b[39m(sample_X)):\n\u001b[0;32m      8\u001b[0m     \u001b[39mprint\u001b[39m(\u001b[39mf\u001b[39m\u001b[39m\"\u001b[39m\u001b[39mUtterance: \u001b[39m\u001b[39m{\u001b[39;00msample_X[i]\u001b[39m}\u001b[39;00m\u001b[39m\"\u001b[39m)\n\u001b[1;32m----> 9\u001b[0m     guess \u001b[39m=\u001b[39m \u001b[39minput\u001b[39;49m()\n\u001b[0;32m     10\u001b[0m     guesses\u001b[39m.\u001b[39mappend(guess)\n\u001b[0;32m     11\u001b[0m     \u001b[39mprint\u001b[39m(\u001b[39mf\u001b[39m\u001b[39m\"\u001b[39m\u001b[39mDialouge Act: \u001b[39m\u001b[39m{\u001b[39;00msample_y[i]\u001b[39m}\u001b[39;00m\u001b[39m\"\u001b[39m)\n",
      "File \u001b[1;32mc:\\Users\\asaju\\Desktop\\Intent-Classification\\venv\\lib\\site-packages\\ipykernel\\kernelbase.py:1191\u001b[0m, in \u001b[0;36mKernel.raw_input\u001b[1;34m(self, prompt)\u001b[0m\n\u001b[0;32m   1189\u001b[0m     msg \u001b[39m=\u001b[39m \u001b[39m\"\u001b[39m\u001b[39mraw_input was called, but this frontend does not support input requests.\u001b[39m\u001b[39m\"\u001b[39m\n\u001b[0;32m   1190\u001b[0m     \u001b[39mraise\u001b[39;00m StdinNotImplementedError(msg)\n\u001b[1;32m-> 1191\u001b[0m \u001b[39mreturn\u001b[39;00m \u001b[39mself\u001b[39;49m\u001b[39m.\u001b[39;49m_input_request(\n\u001b[0;32m   1192\u001b[0m     \u001b[39mstr\u001b[39;49m(prompt),\n\u001b[0;32m   1193\u001b[0m     \u001b[39mself\u001b[39;49m\u001b[39m.\u001b[39;49m_parent_ident[\u001b[39m\"\u001b[39;49m\u001b[39mshell\u001b[39;49m\u001b[39m\"\u001b[39;49m],\n\u001b[0;32m   1194\u001b[0m     \u001b[39mself\u001b[39;49m\u001b[39m.\u001b[39;49mget_parent(\u001b[39m\"\u001b[39;49m\u001b[39mshell\u001b[39;49m\u001b[39m\"\u001b[39;49m),\n\u001b[0;32m   1195\u001b[0m     password\u001b[39m=\u001b[39;49m\u001b[39mFalse\u001b[39;49;00m,\n\u001b[0;32m   1196\u001b[0m )\n",
      "File \u001b[1;32mc:\\Users\\asaju\\Desktop\\Intent-Classification\\venv\\lib\\site-packages\\ipykernel\\kernelbase.py:1234\u001b[0m, in \u001b[0;36mKernel._input_request\u001b[1;34m(self, prompt, ident, parent, password)\u001b[0m\n\u001b[0;32m   1231\u001b[0m \u001b[39mexcept\u001b[39;00m \u001b[39mKeyboardInterrupt\u001b[39;00m:\n\u001b[0;32m   1232\u001b[0m     \u001b[39m# re-raise KeyboardInterrupt, to truncate traceback\u001b[39;00m\n\u001b[0;32m   1233\u001b[0m     msg \u001b[39m=\u001b[39m \u001b[39m\"\u001b[39m\u001b[39mInterrupted by user\u001b[39m\u001b[39m\"\u001b[39m\n\u001b[1;32m-> 1234\u001b[0m     \u001b[39mraise\u001b[39;00m \u001b[39mKeyboardInterrupt\u001b[39;00m(msg) \u001b[39mfrom\u001b[39;00m \u001b[39mNone\u001b[39m\n\u001b[0;32m   1235\u001b[0m \u001b[39mexcept\u001b[39;00m \u001b[39mException\u001b[39;00m:\n\u001b[0;32m   1236\u001b[0m     \u001b[39mself\u001b[39m\u001b[39m.\u001b[39mlog\u001b[39m.\u001b[39mwarning(\u001b[39m\"\u001b[39m\u001b[39mInvalid Message:\u001b[39m\u001b[39m\"\u001b[39m, exc_info\u001b[39m=\u001b[39m\u001b[39mTrue\u001b[39;00m)\n",
      "\u001b[1;31mKeyboardInterrupt\u001b[0m: Interrupted by user"
     ]
    }
   ],
   "source": [
    "# Sample 100 utterances and their labels\n",
    "sample_X = train_X[500:600]\n",
    "sample_y = train_y[500:600]\n",
    "guesses = []\n",
    "\n",
    "# Print the samples one by one\n",
    "for i in range(len(sample_X)):\n",
    "    print(f\"Utterance: {sample_X[i]}\")\n",
    "    guess = input()\n",
    "    guesses.append(guess)\n",
    "    print(f\"Dialouge Act: {sample_y[i]}\")\n",
    "    print()\n"
   ]
  },
  {
   "cell_type": "code",
   "execution_count": 25,
   "metadata": {},
   "outputs": [
    {
     "name": "stdout",
     "output_type": "stream",
     "text": [
      "Utterance: go down to the bottom half of the lake but ehm start straightening out as if you were going back to where you started but le-- leave about an inch between the path where you went round the lake and the path where you're coming out of it\n",
      "Guess: instruct\n",
      "Label: instruct\n",
      "\n",
      "Utterance: you want me to trace back my steps\n",
      "Guess: query_yn\n",
      "Label: check\n",
      "\n",
      "Utterance: no\n",
      "Guess: reply_n\n",
      "Label: reply_n\n",
      "\n",
      "Utterance: you've gone halfway round the lake\n",
      "Guess: clarify\n",
      "Label: align\n",
      "\n",
      "Utterance: right\n",
      "Guess: ready\n",
      "Label: reply_y\n",
      "\n",
      "Utterance: right\n",
      "Guess: reply_y\n",
      "Label: acknowledge\n",
      "\n",
      "Utterance: go down the sort of slightly flat side the the side that's about an inch of the lake f-- just follow that down\n",
      "Guess: reply_y\n",
      "Label: instruct\n",
      "\n",
      "Utterance: i don't have a flat side\n",
      "Guess: explain\n",
      "Label: explain\n",
      "\n",
      "Utterance: oh dear\n",
      "Guess: ready\n",
      "Label: acknowledge\n",
      "\n",
      "Utterance: right okay\n",
      "Guess: ready\n",
      "Label: ready\n",
      "\n",
      "Utterance: right\n",
      "Guess: ready\n",
      "Label: ready\n",
      "\n",
      "Utterance: i'm at the bottom of the lake\n",
      "Guess: clarify\n",
      "Label: explain\n",
      "\n",
      "Utterance: you're at the bottom\n",
      "Guess: clarify\n",
      "Label: acknowledge\n",
      "\n",
      "Utterance: okay\n",
      "Guess: align\n",
      "Label: align\n",
      "\n",
      "Utterance: right\n",
      "Guess: ready\n",
      "Label: ready\n",
      "\n",
      "Utterance: well i'm\n",
      "Guess: acknowledge\n",
      "Label: explain\n",
      "\n",
      "Utterance: right\n",
      "Guess: ready\n",
      "Label: ready\n",
      "\n",
      "Utterance: keep progressing in that kind of line for about another inch and a half\n",
      "Guess: ready\n",
      "Label: instruct\n",
      "\n",
      "Utterance: towards the left\n",
      "Guess: clarify\n",
      "Label: check\n",
      "\n",
      "Utterance: yes\n",
      "Guess: reply_y\n",
      "Label: reply_y\n",
      "\n",
      "Utterance: right okay\n",
      "Guess: acknowledge\n",
      "Label: acknowledge\n",
      "\n",
      "Utterance: right\n",
      "Guess: ready\n",
      "Label: acknowledge\n",
      "\n",
      "Utterance: now\n",
      "Guess: ready\n",
      "Label: ready\n",
      "\n",
      "Utterance: when you've done that you should be ehm about equal with where you started going round the lake but about an inch and a half down from there\n",
      "Guess: check\n",
      "Label: align\n",
      "\n",
      "Utterance: yeah\n",
      "Guess: \n",
      "Label: reply_y\n",
      "\n"
     ]
    }
   ],
   "source": [
    "# Print the utterances, guesses and labels\n",
    "for i in range(len(guesses)):\n",
    "    print(f\"Utterance: {sample_X[i]}\")\n",
    "    print(f\"Guess: {guesses[i]}\")\n",
    "    print(f\"Label: {sample_y[i]}\")\n",
    "    print()\n"
   ]
  },
  {
   "attachments": {},
   "cell_type": "markdown",
   "metadata": {},
   "source": [
    "The human accuracy is at 54.1% (13/24)\n",
    "\n",
    "This sets a baseline performance and highlights challenges when predicting these labels: some labels are very similar\n",
    "- \"right\" can be ready but can also be acknowledge or reply_y which highlights intersection between labels\n",
    "- clarify (\"right down there\") and check (\"right beside it\") can be confused without punctuation\n"
   ]
  }
 ],
 "metadata": {
  "kernelspec": {
   "display_name": "venv",
   "language": "python",
   "name": "python3"
  },
  "language_info": {
   "codemirror_mode": {
    "name": "ipython",
    "version": 3
   },
   "file_extension": ".py",
   "mimetype": "text/x-python",
   "name": "python",
   "nbconvert_exporter": "python",
   "pygments_lexer": "ipython3",
   "version": "3.8.10"
  },
  "orig_nbformat": 4,
  "vscode": {
   "interpreter": {
    "hash": "230157245b2fbbf2b6985224fe3056ec7781b1323cbc0f4f0d2e53bf8fb0ac0a"
   }
  }
 },
 "nbformat": 4,
 "nbformat_minor": 2
}
